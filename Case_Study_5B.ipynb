{
 "cells": [
  {
   "cell_type": "markdown",
   "id": "large-diving",
   "metadata": {},
   "source": [
    "# CASE STUDY 5B: Network Text Analysis of Documents using Textnets "
   ]
  },
  {
   "cell_type": "markdown",
   "id": "white-institution",
   "metadata": {},
   "source": [
    "<img src=\"https://ithaka-labs.s3.amazonaws.com/static-files/images/tdm/tdmdocs/CC_BY.png\" align=left alt=\"CC BY license logo\" /><br /><br />\n",
    "Created by [Manika Lamba](http://manika-lamba.github.io) under [Creative Commons CC BY License](https://creativecommons.org/licenses/by/4.0/)<br />\n",
    "**For questions/comments, email lambamanika07@gmail.com**<br />\n",
    "____"
   ]
  },
  {
   "cell_type": "code",
   "execution_count": 6,
   "id": "dress-adult",
   "metadata": {},
   "outputs": [
    {
     "ename": "ERROR",
     "evalue": "Error in library(textnets): there is no package called 'textnets'\n",
     "output_type": "error",
     "traceback": [
      "Error in library(textnets): there is no package called 'textnets'\nTraceback:\n",
      "1. library(textnets)"
     ]
    }
   ],
   "source": [
    "#Load libraries\n",
    "library(textnets)"
   ]
  },
  {
   "cell_type": "code",
   "execution_count": null,
   "id": "auburn-pound",
   "metadata": {},
   "outputs": [],
   "source": [
    "#Load dataset\n",
    "data <- read.csv(\"https://raw.githubusercontent.com/textmining-utl/chapter5/master/5b_dataset.csv?token=ARBWLQ7FRPMWAXI27I6OGOTACZLIW\")"
   ]
  },
  {
   "cell_type": "code",
   "execution_count": null,
   "id": "innovative-warren",
   "metadata": {},
   "outputs": [],
   "source": [
    "#Preparing Text with Nouns\n",
    "prep<- PrepText(data,\n",
    "                groupvar = \"Researcher.Name\", \n",
    "                textvar = \"textvar\",\n",
    "                node_type = \"words\", \n",
    "                tokenizer = \"words\", \n",
    "                pos = \"nouns\",\n",
    "                remove_stop_words = TRUE, \n",
    "                remove_numbers = TRUE,\n",
    "                compound_nouns = TRUE)"
   ]
  },
  {
   "cell_type": "code",
   "execution_count": null,
   "id": "valued-entrance",
   "metadata": {},
   "outputs": [],
   "source": [
    "#Creating Text Network\n",
    "network <- CreateTextnet(prep)"
   ]
  },
  {
   "cell_type": "code",
   "execution_count": null,
   "id": "adapted-variety",
   "metadata": {},
   "outputs": [],
   "source": [
    "#Visualizing the Text Network\n",
    "VisTextNet(network, alpha = .15, label_degree_cut = 0,betweenness = FALSE)\n",
    "print(VisTextNet(network, alpha = .15, label_degree_cut = 0,betweenness = FALSE))"
   ]
  },
  {
   "cell_type": "code",
   "execution_count": null,
   "id": "finished-external",
   "metadata": {},
   "outputs": [],
   "source": [
    "#Analyzing Text Networks\n",
    "communities <- TextCommunities(network)\n",
    "write.csv(communities,'communities.csv')"
   ]
  },
  {
   "cell_type": "code",
   "execution_count": null,
   "id": "about-terrorism",
   "metadata": {},
   "outputs": [],
   "source": [
    "text_centrality <- TextCentrality(network)\n",
    "write.csv(text_centrality,'text_centrality.csv')"
   ]
  }
 ],
 "metadata": {
  "kernelspec": {
   "display_name": "R",
   "language": "R",
   "name": "ir"
  },
  "language_info": {
   "codemirror_mode": "r",
   "file_extension": ".r",
   "mimetype": "text/x-r-source",
   "name": "R",
   "pygments_lexer": "r",
   "version": "3.6.1"
  }
 },
 "nbformat": 4,
 "nbformat_minor": 5
}
